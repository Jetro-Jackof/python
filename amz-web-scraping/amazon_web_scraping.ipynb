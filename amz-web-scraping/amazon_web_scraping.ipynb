{
 "cells": [
  {
   "cell_type": "code",
   "execution_count": 3,
   "metadata": {},
   "outputs": [],
   "source": [
    "#libraries\n",
    "from bs4 import BeautifulSoup\n",
    "import requests\n",
    "import smtplib\n",
    "import time\n",
    "import datetime"
   ]
  },
  {
   "cell_type": "code",
   "execution_count": null,
   "metadata": {},
   "outputs": [],
   "source": [
    "URL = \"https://www.amazon.com.mx/s?i=electronics&bbn=16880760011&rh=n%3A9482558011%2Cn%3A16877107011%2Cn%3A16880760011%2Cn%3A9687880011%2Cn%3A10189676011&pd_rd_r=817b99fd-4e1c-4e06-aa74-41ec054e5111&pd_rd_w=RPe0x&pd_rd_wg=r1sGW&pf_rd_p=bcdafca5-32d2-4f27-90fc-759fa82bb142&pf_rd_r=419Q5Z24TE6701NVNHCM&qid=1615386611&rnid=9687880011&ref=pd_gw_unk\"\n",
    "headers"
   ]
  }
 ],
 "metadata": {
  "kernelspec": {
   "display_name": "Python 3",
   "language": "python",
   "name": "python3"
  },
  "language_info": {
   "codemirror_mode": {
    "name": "ipython",
    "version": 3
   },
   "file_extension": ".py",
   "mimetype": "text/x-python",
   "name": "python",
   "nbconvert_exporter": "python",
   "pygments_lexer": "ipython3",
   "version": "3.8.3"
  }
 },
 "nbformat": 4,
 "nbformat_minor": 4
}
